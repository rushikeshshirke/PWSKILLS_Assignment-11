{
 "cells": [
  {
   "cell_type": "code",
   "execution_count": 2,
   "id": "4d81403e-53d2-471e-a97e-a158228e97ef",
   "metadata": {},
   "outputs": [],
   "source": [
    "# Q1.\n",
    "\n",
    "# open() function is used to open the files in python.\n",
    "\n",
    "# Modes of opening file in python :\n",
    "#     1. r - read only\n",
    "#     2. w - write only\n",
    "#     3. b - binary mode\n",
    "#     4. a - append mode\n",
    "#     5. r+ - read and write "
   ]
  },
  {
   "cell_type": "code",
   "execution_count": 3,
   "id": "18cd2ca5-467e-4051-b7a3-71da6e9fa47d",
   "metadata": {},
   "outputs": [],
   "source": [
    "# Q2.\n",
    "\n",
    "# The close() method closes an open file. You should always close your files.\n",
    "\n",
    "# Files are limited resources handled by the operating system. Closing files after use protects against \n",
    "# difficult-to-debug issues such as running out of file handles or encountering corrupted data."
   ]
  },
  {
   "cell_type": "code",
   "execution_count": 4,
   "id": "c79685cd-987e-41b2-833c-b1305c80c3f1",
   "metadata": {},
   "outputs": [],
   "source": [
    "# Q3.\n",
    "\n",
    "f = open('demo.txt','w')\n",
    "f.write('I want to become a data scientist')\n",
    "f.close()"
   ]
  },
  {
   "cell_type": "code",
   "execution_count": 6,
   "id": "efc1367f-b047-42b1-816e-08aae1a565fe",
   "metadata": {},
   "outputs": [
    {
     "name": "stdout",
     "output_type": "stream",
     "text": [
      "I want to become a data scientist\n"
     ]
    }
   ],
   "source": [
    "f = open('demo.txt','r')\n",
    "print(f.read())"
   ]
  },
  {
   "cell_type": "code",
   "execution_count": 7,
   "id": "52688666-d003-4878-a4e4-1218395d76f2",
   "metadata": {},
   "outputs": [],
   "source": [
    "# Q4.\n",
    "# read() : retrieves the entire content as a single string\n",
    "# readline() : reads one line at a time\n",
    "# readlines() : returns a list containing all lines in the file.\n"
   ]
  },
  {
   "cell_type": "code",
   "execution_count": 8,
   "id": "f77b1484-a30f-44b7-9eb6-8fba52e28804",
   "metadata": {},
   "outputs": [],
   "source": [
    "# Q5.\n",
    "# The with statement works with the open() function to open a file.\n",
    "# Unlike open() where you have to close the file with the close() method, the with statement closes \n",
    "# the file for you without you telling it to.\n",
    "# This is because the with statement calls 2 built-in methods behind the scene – __enter()__ and __exit()__ ."
   ]
  },
  {
   "cell_type": "code",
   "execution_count": null,
   "id": "03d862f2-6cd0-4619-9e2a-ce1f5cf6eaba",
   "metadata": {},
   "outputs": [],
   "source": [
    "# Q6.\n",
    "\n",
    "# write() function : The write() function will write the content in the file without adding any extra characters.\n",
    "# writelines() function : this function writes the inputted string in new lines."
   ]
  }
 ],
 "metadata": {
  "kernelspec": {
   "display_name": "Python 3 (ipykernel)",
   "language": "python",
   "name": "python3"
  },
  "language_info": {
   "codemirror_mode": {
    "name": "ipython",
    "version": 3
   },
   "file_extension": ".py",
   "mimetype": "text/x-python",
   "name": "python",
   "nbconvert_exporter": "python",
   "pygments_lexer": "ipython3",
   "version": "3.10.8"
  }
 },
 "nbformat": 4,
 "nbformat_minor": 5
}
